{
 "cells": [
  {
   "cell_type": "markdown",
   "metadata": {},
   "source": [
    "<img src=\"img/xilinx-jupyter.png\"/>\n",
    "\n",
    "Jupyter Notebook provides us a flexible experimentation environment.\n",
    "Select any cell and click \"Run\". Click the square to stop if needed.\n",
    "\n",
    "## Power Advantage Tool notebook "
   ]
  },
  {
   "cell_type": "markdown",
   "metadata": {},
   "source": [
    "This cell is a demo of the poweradvantage library.  \n",
    "\n",
    "This generation of Power Advantage Tool has a few improvements over previous generations:  \n",
    "(1) It is available as a library so it can be easily embedded into all demos and applications.  \n",
    "(2) It can be run alongside your code, without you requiring to modify your project.  \n",
    "(3) The Jupyter Notebook experimentation environment encourages customization and extension.  \n",
    "  - Note it is only four lines of code.  <img style=\"float: right;\" src=\"img/xilinx-kid.png\">  \n",
    "  - The same APIs support various kits, so your code can be portable.  \n",
    "  - It is supported on the System Controller or the Main Device (with jupyter notebook).  \n",
    "  - APIs give access to the data, so it can be presented as you like.  \n",
    "  - Additional Python libraries can be installed!  \n",
    "  - See below for more that you can do!  \n",
    "\n",
    "Note: Domains/Totals only show Watts since they are composed of rails of different Voltages (invalid columns are dashed out).  "
   ]
  },
  {
   "cell_type": "code",
   "execution_count": 1,
   "metadata": {
    "scrolled": true
   },
   "outputs": [
    {
     "name": "stdout",
     "output_type": "stream",
     "text": [
      "\n",
      "poweradvantage rev 0.02\n",
      "-------------- --- ----\n",
      "pa          = poweradvantage(<name>, <module>) # Initialization\n",
      "                                               # Board Names: VCK190, VMK180\n",
      "                                               # Modules: \"\" Main Module, SC System Controller\n",
      "pa          = poweradvantage(\"VCK190\", \"\")     # Configure to be run on VCK190 Versal\n",
      "pa          = poweradvantage(\"VCK190\", \"SC\")   # Configure to be run on VCK190 System Controller\n",
      "name        = pa.getname()                     # Get power rail names\n",
      "description = pa.getdescription()              # Get power rail descriptions\n",
      "domain      = pa.getdomain()                   # Get power rail domains\n",
      "power       = pa.getpower()                    # Get power rail Volts, Amps, Watts\n",
      "              pa.printpower()                  # Print the power\n",
      "power       = pa.printpower()                  # Print the power and get the power\n",
      "              pa.help()                        # Print these instructions\n",
      "\n",
      "                   Volts  Amps  Watts\n",
      "          VADJ_FMC 0.004 0.0000 0.0000\n",
      "        FMC Domain ----- ------ 0.0000\n",
      "          MGTYAVCC 0.876 0.6700 0.5871\n",
      "          MGTYAVTT 1.204 0.0125 0.0150\n",
      "        MGTYVCCAUX 1.495 0.0005 0.0007\n",
      "Transceiver Domain ----- ------ 0.6029\n",
      "            VCCINT 0.784 0.5150 0.4036\n",
      "            VCC1V8 1.802 0.0020 0.0036\n",
      "            VCC3V3 3.324 0.0085 0.0283\n",
      "            VCC1V2 1.199 0.0220 0.0264\n",
      "            VCC1V1 1.099 0.0620 0.0681\n",
      "         PL Domain ----- ------ 0.5300\n",
      "           VCC_SOC 0.785 0.4000 0.3140\n",
      "           VCC_RAM 0.000 0.0000 0.0000\n",
      "            VCCAUX 1.502 0.0065 0.0098\n",
      "     System Domain ----- ------ 0.3238\n",
      "          VCC_PSFP 0.776 0.0270 0.0210\n",
      "               FPD ----- ------ 0.0210\n",
      "          VCC_PSLP 0.780 0.0145 0.0113\n",
      "               LPD ----- ------ 0.0113\n",
      "           VCC_PMC 0.775 0.1035 0.0802\n",
      "          VCCO_MIO 1.799 0.1040 0.1871\n",
      "        VCCAUX_PMC 1.500 0.0285 0.0427\n",
      "        PMC Domain ----- ------ 0.3100\n",
      "             Total ----- ------ 1.7989\n"
     ]
    }
   ],
   "source": [
    "from poweradvantage import poweradvantage\n",
    "pa = poweradvantage(\"VCK190\", \"SC\")\n",
    "pa.help()\n",
    "p = pa.printpower()"
   ]
  },
  {
   "cell_type": "markdown",
   "metadata": {},
   "source": [
    "This cell is the Power Advantage Tool.  \n",
    "Select the cell below and click \"Run\". Click the square to stop.\n",
    "\n",
    "The Power Advantage Tool can run along with your application by launching its separate Jupyter Notebook on the main device.  \n",
    "Or the Power Advantage Tool can run along with any application by launching it from the System Controller.  \n",
    "This flexibility allows an unprescedented level of tools support with your design. <img style=\"float: right;\" src=\"img/xilinx-bulb.png\">\n",
    "\n",
    "Please see below for more things you can do."
   ]
  },
  {
   "cell_type": "code",
   "execution_count": null,
   "metadata": {
    "scrolled": true
   },
   "outputs": [
    {
     "name": "stdout",
     "output_type": "stream",
     "text": [
      "                   Volts  Amps  Watts\n",
      "          VADJ_FMC 0.004 0.0000 0.0000\n",
      "        FMC Domain ----- ------ 0.0000\n",
      "          MGTYAVCC 0.876 0.6675 0.5849\n",
      "          MGTYAVTT 1.204 0.0125 0.0150\n",
      "        MGTYVCCAUX 1.495 0.0005 0.0007\n",
      "Transceiver Domain ----- ------ 0.6007\n",
      "            VCCINT 0.784 0.5400 0.4232\n",
      "            VCC1V8 1.802 0.0020 0.0036\n",
      "            VCC3V3 3.324 0.0085 0.0283\n",
      "            VCC1V2 1.199 0.0220 0.0264\n",
      "            VCC1V1 1.099 0.0620 0.0681\n",
      "         PL Domain ----- ------ 0.5496\n",
      "           VCC_SOC 0.785 0.4000 0.3140\n",
      "           VCC_RAM 0.000 0.0000 0.0000\n",
      "            VCCAUX 1.502 0.0065 0.0098\n",
      "     System Domain ----- ------ 0.3238\n",
      "          VCC_PSFP 0.776 0.0275 0.0213\n",
      "               FPD ----- ------ 0.0213\n",
      "          VCC_PSLP 0.780 0.0145 0.0113\n",
      "               LPD ----- ------ 0.0113\n",
      "           VCC_PMC 0.776 0.1010 0.0784\n",
      "          VCCO_MIO 1.799 0.1040 0.1871\n",
      "        VCCAUX_PMC 1.501 0.0285 0.0428\n",
      "        PMC Domain ----- ------ 0.3083\n",
      "             Total ----- ------ 1.8149\n"
     ]
    }
   ],
   "source": [
    "from poweradvantage import poweradvantage\n",
    "import time\n",
    "from IPython import display\n",
    "pa = poweradvantage(\"VCK190\", \"SC\")\n",
    "\n",
    "while 1:\n",
    " display.clear_output(wait=True)\n",
    " pa.printpower()\n",
    " time.sleep(3)"
   ]
  },
  {
   "cell_type": "markdown",
   "metadata": {},
   "source": [
    "This cell shows how to make a custom presentation of the data.  \n",
    "It does not use printpower, but uses getpower to get the data and plots it.  \n",
    "\n",
    "With the flexibility of pandas dataframes, this code can be extended in many ways.  "
   ]
  },
  {
   "cell_type": "code",
   "execution_count": 2,
   "metadata": {},
   "outputs": [
    {
     "ename": "UnknownTimeZoneError",
     "evalue": "'UTC+00:00'",
     "output_type": "error",
     "traceback": [
      "\u001b[0;31m---------------------------------------------------------------------------\u001b[0m",
      "\u001b[0;31mUnknownTimeZoneError\u001b[0m                      Traceback (most recent call last)",
      "\u001b[0;32m<ipython-input-2-7a49264cc66f>\u001b[0m in \u001b[0;36m<module>\u001b[0;34m\u001b[0m\n\u001b[1;32m     17\u001b[0m  \u001b[0mplt\u001b[0m\u001b[0;34m.\u001b[0m\u001b[0mplot\u001b[0m\u001b[0;34m(\u001b[0m\u001b[0mdf\u001b[0m\u001b[0;34m.\u001b[0m\u001b[0mtail\u001b[0m\u001b[0;34m(\u001b[0m\u001b[0;36m10\u001b[0m\u001b[0;34m)\u001b[0m\u001b[0;34m)\u001b[0m\u001b[0;34m\u001b[0m\u001b[0m\n\u001b[1;32m     18\u001b[0m  \u001b[0mdisplay\u001b[0m\u001b[0;34m.\u001b[0m\u001b[0mclear_output\u001b[0m\u001b[0;34m(\u001b[0m\u001b[0mwait\u001b[0m\u001b[0;34m=\u001b[0m\u001b[0;32mTrue\u001b[0m\u001b[0;34m)\u001b[0m\u001b[0;34m\u001b[0m\u001b[0m\n\u001b[0;32m---> 19\u001b[0;31m  \u001b[0mplt\u001b[0m\u001b[0;34m.\u001b[0m\u001b[0mshow\u001b[0m\u001b[0;34m(\u001b[0m\u001b[0;34m)\u001b[0m\u001b[0;34m\u001b[0m\u001b[0m\n\u001b[0m\u001b[1;32m     20\u001b[0m  \u001b[0mtime\u001b[0m\u001b[0;34m.\u001b[0m\u001b[0msleep\u001b[0m\u001b[0;34m(\u001b[0m\u001b[0;36m0.5\u001b[0m\u001b[0;34m)\u001b[0m\u001b[0;34m\u001b[0m\u001b[0m\n",
      "\u001b[0;32m/usr/lib/python3.5/site-packages/matplotlib/pyplot.py\u001b[0m in \u001b[0;36mshow\u001b[0;34m(*args, **kw)\u001b[0m\n\u001b[1;32m    252\u001b[0m     \"\"\"\n\u001b[1;32m    253\u001b[0m     \u001b[0;32mglobal\u001b[0m \u001b[0m_show\u001b[0m\u001b[0;34m\u001b[0m\u001b[0m\n\u001b[0;32m--> 254\u001b[0;31m     \u001b[0;32mreturn\u001b[0m \u001b[0m_show\u001b[0m\u001b[0;34m(\u001b[0m\u001b[0;34m*\u001b[0m\u001b[0margs\u001b[0m\u001b[0;34m,\u001b[0m \u001b[0;34m**\u001b[0m\u001b[0mkw\u001b[0m\u001b[0;34m)\u001b[0m\u001b[0;34m\u001b[0m\u001b[0m\n\u001b[0m\u001b[1;32m    255\u001b[0m \u001b[0;34m\u001b[0m\u001b[0m\n\u001b[1;32m    256\u001b[0m \u001b[0;34m\u001b[0m\u001b[0m\n",
      "\u001b[0;32m/usr/lib/python3.5/site-packages/ipykernel/pylab/backend_inline.py\u001b[0m in \u001b[0;36mshow\u001b[0;34m(close, block)\u001b[0m\n\u001b[1;32m     37\u001b[0m             display(\n\u001b[1;32m     38\u001b[0m                 \u001b[0mfigure_manager\u001b[0m\u001b[0;34m.\u001b[0m\u001b[0mcanvas\u001b[0m\u001b[0;34m.\u001b[0m\u001b[0mfigure\u001b[0m\u001b[0;34m,\u001b[0m\u001b[0;34m\u001b[0m\u001b[0m\n\u001b[0;32m---> 39\u001b[0;31m                 \u001b[0mmetadata\u001b[0m\u001b[0;34m=\u001b[0m\u001b[0m_fetch_figure_metadata\u001b[0m\u001b[0;34m(\u001b[0m\u001b[0mfigure_manager\u001b[0m\u001b[0;34m.\u001b[0m\u001b[0mcanvas\u001b[0m\u001b[0;34m.\u001b[0m\u001b[0mfigure\u001b[0m\u001b[0;34m)\u001b[0m\u001b[0;34m\u001b[0m\u001b[0m\n\u001b[0m\u001b[1;32m     40\u001b[0m             )\n\u001b[1;32m     41\u001b[0m     \u001b[0;32mfinally\u001b[0m\u001b[0;34m:\u001b[0m\u001b[0;34m\u001b[0m\u001b[0m\n",
      "\u001b[0;32m/usr/lib/python3.5/site-packages/ipykernel/pylab/backend_inline.py\u001b[0m in \u001b[0;36m_fetch_figure_metadata\u001b[0;34m(fig)\u001b[0m\n\u001b[1;32m    175\u001b[0m         \u001b[0;31m# the background is transparent\u001b[0m\u001b[0;34m\u001b[0m\u001b[0;34m\u001b[0m\u001b[0m\n\u001b[1;32m    176\u001b[0m         ticksLight = _is_light([label.get_color()\n\u001b[0;32m--> 177\u001b[0;31m                                 \u001b[0;32mfor\u001b[0m \u001b[0maxes\u001b[0m \u001b[0;32min\u001b[0m \u001b[0mfig\u001b[0m\u001b[0;34m.\u001b[0m\u001b[0maxes\u001b[0m\u001b[0;34m\u001b[0m\u001b[0m\n\u001b[0m\u001b[1;32m    178\u001b[0m                                 \u001b[0;32mfor\u001b[0m \u001b[0maxis\u001b[0m \u001b[0;32min\u001b[0m \u001b[0;34m(\u001b[0m\u001b[0maxes\u001b[0m\u001b[0;34m.\u001b[0m\u001b[0mxaxis\u001b[0m\u001b[0;34m,\u001b[0m \u001b[0maxes\u001b[0m\u001b[0;34m.\u001b[0m\u001b[0myaxis\u001b[0m\u001b[0;34m)\u001b[0m\u001b[0;34m\u001b[0m\u001b[0m\n\u001b[1;32m    179\u001b[0m                                 for label in axis.get_ticklabels()])\n",
      "\u001b[0;32m/usr/lib/python3.5/site-packages/ipykernel/pylab/backend_inline.py\u001b[0m in \u001b[0;36m<listcomp>\u001b[0;34m(.0)\u001b[0m\n\u001b[1;32m    177\u001b[0m                                 \u001b[0;32mfor\u001b[0m \u001b[0maxes\u001b[0m \u001b[0;32min\u001b[0m \u001b[0mfig\u001b[0m\u001b[0;34m.\u001b[0m\u001b[0maxes\u001b[0m\u001b[0;34m\u001b[0m\u001b[0m\n\u001b[1;32m    178\u001b[0m                                 \u001b[0;32mfor\u001b[0m \u001b[0maxis\u001b[0m \u001b[0;32min\u001b[0m \u001b[0;34m(\u001b[0m\u001b[0maxes\u001b[0m\u001b[0;34m.\u001b[0m\u001b[0mxaxis\u001b[0m\u001b[0;34m,\u001b[0m \u001b[0maxes\u001b[0m\u001b[0;34m.\u001b[0m\u001b[0myaxis\u001b[0m\u001b[0;34m)\u001b[0m\u001b[0;34m\u001b[0m\u001b[0m\n\u001b[0;32m--> 179\u001b[0;31m                                 for label in axis.get_ticklabels()])\n\u001b[0m\u001b[1;32m    180\u001b[0m         \u001b[0;32mif\u001b[0m \u001b[0mticksLight\u001b[0m\u001b[0;34m.\u001b[0m\u001b[0msize\u001b[0m \u001b[0;32mand\u001b[0m \u001b[0;34m(\u001b[0m\u001b[0mticksLight\u001b[0m \u001b[0;34m==\u001b[0m \u001b[0mticksLight\u001b[0m\u001b[0;34m[\u001b[0m\u001b[0;36m0\u001b[0m\u001b[0;34m]\u001b[0m\u001b[0;34m)\u001b[0m\u001b[0;34m.\u001b[0m\u001b[0mall\u001b[0m\u001b[0;34m(\u001b[0m\u001b[0;34m)\u001b[0m\u001b[0;34m:\u001b[0m\u001b[0;34m\u001b[0m\u001b[0m\n\u001b[1;32m    181\u001b[0m             \u001b[0;31m# there are one or more tick labels, all with the same lightness\u001b[0m\u001b[0;34m\u001b[0m\u001b[0;34m\u001b[0m\u001b[0m\n",
      "\u001b[0;32m/usr/lib/python3.5/site-packages/matplotlib/axis.py\u001b[0m in \u001b[0;36mget_ticklabels\u001b[0;34m(self, minor, which)\u001b[0m\n\u001b[1;32m   1284\u001b[0m         \u001b[0;32mif\u001b[0m \u001b[0mminor\u001b[0m\u001b[0;34m:\u001b[0m\u001b[0;34m\u001b[0m\u001b[0m\n\u001b[1;32m   1285\u001b[0m             \u001b[0;32mreturn\u001b[0m \u001b[0mself\u001b[0m\u001b[0;34m.\u001b[0m\u001b[0mget_minorticklabels\u001b[0m\u001b[0;34m(\u001b[0m\u001b[0;34m)\u001b[0m\u001b[0;34m\u001b[0m\u001b[0m\n\u001b[0;32m-> 1286\u001b[0;31m         \u001b[0;32mreturn\u001b[0m \u001b[0mself\u001b[0m\u001b[0;34m.\u001b[0m\u001b[0mget_majorticklabels\u001b[0m\u001b[0;34m(\u001b[0m\u001b[0;34m)\u001b[0m\u001b[0;34m\u001b[0m\u001b[0m\n\u001b[0m\u001b[1;32m   1287\u001b[0m \u001b[0;34m\u001b[0m\u001b[0m\n\u001b[1;32m   1288\u001b[0m     \u001b[0;32mdef\u001b[0m \u001b[0mget_majorticklines\u001b[0m\u001b[0;34m(\u001b[0m\u001b[0mself\u001b[0m\u001b[0;34m)\u001b[0m\u001b[0;34m:\u001b[0m\u001b[0;34m\u001b[0m\u001b[0m\n",
      "\u001b[0;32m/usr/lib/python3.5/site-packages/matplotlib/axis.py\u001b[0m in \u001b[0;36mget_majorticklabels\u001b[0;34m(self)\u001b[0m\n\u001b[1;32m   1238\u001b[0m     \u001b[0;32mdef\u001b[0m \u001b[0mget_majorticklabels\u001b[0m\u001b[0;34m(\u001b[0m\u001b[0mself\u001b[0m\u001b[0;34m)\u001b[0m\u001b[0;34m:\u001b[0m\u001b[0;34m\u001b[0m\u001b[0m\n\u001b[1;32m   1239\u001b[0m         \u001b[0;34m'Return a list of Text instances for the major ticklabels'\u001b[0m\u001b[0;34m\u001b[0m\u001b[0m\n\u001b[0;32m-> 1240\u001b[0;31m         \u001b[0mticks\u001b[0m \u001b[0;34m=\u001b[0m \u001b[0mself\u001b[0m\u001b[0;34m.\u001b[0m\u001b[0mget_major_ticks\u001b[0m\u001b[0;34m(\u001b[0m\u001b[0;34m)\u001b[0m\u001b[0;34m\u001b[0m\u001b[0m\n\u001b[0m\u001b[1;32m   1241\u001b[0m         \u001b[0mlabels1\u001b[0m \u001b[0;34m=\u001b[0m \u001b[0;34m[\u001b[0m\u001b[0mtick\u001b[0m\u001b[0;34m.\u001b[0m\u001b[0mlabel1\u001b[0m \u001b[0;32mfor\u001b[0m \u001b[0mtick\u001b[0m \u001b[0;32min\u001b[0m \u001b[0mticks\u001b[0m \u001b[0;32mif\u001b[0m \u001b[0mtick\u001b[0m\u001b[0;34m.\u001b[0m\u001b[0mlabel1On\u001b[0m\u001b[0;34m]\u001b[0m\u001b[0;34m\u001b[0m\u001b[0m\n\u001b[1;32m   1242\u001b[0m         \u001b[0mlabels2\u001b[0m \u001b[0;34m=\u001b[0m \u001b[0;34m[\u001b[0m\u001b[0mtick\u001b[0m\u001b[0;34m.\u001b[0m\u001b[0mlabel2\u001b[0m \u001b[0;32mfor\u001b[0m \u001b[0mtick\u001b[0m \u001b[0;32min\u001b[0m \u001b[0mticks\u001b[0m \u001b[0;32mif\u001b[0m \u001b[0mtick\u001b[0m\u001b[0;34m.\u001b[0m\u001b[0mlabel2On\u001b[0m\u001b[0;34m]\u001b[0m\u001b[0;34m\u001b[0m\u001b[0m\n",
      "\u001b[0;32m/usr/lib/python3.5/site-packages/matplotlib/axis.py\u001b[0m in \u001b[0;36mget_major_ticks\u001b[0;34m(self, numticks)\u001b[0m\n\u001b[1;32m   1389\u001b[0m         \u001b[0;34m'get the tick instances; grow as necessary'\u001b[0m\u001b[0;34m\u001b[0m\u001b[0m\n\u001b[1;32m   1390\u001b[0m         \u001b[0;32mif\u001b[0m \u001b[0mnumticks\u001b[0m \u001b[0;32mis\u001b[0m \u001b[0;32mNone\u001b[0m\u001b[0;34m:\u001b[0m\u001b[0;34m\u001b[0m\u001b[0m\n\u001b[0;32m-> 1391\u001b[0;31m             \u001b[0mnumticks\u001b[0m \u001b[0;34m=\u001b[0m \u001b[0mlen\u001b[0m\u001b[0;34m(\u001b[0m\u001b[0mself\u001b[0m\u001b[0;34m.\u001b[0m\u001b[0mget_major_locator\u001b[0m\u001b[0;34m(\u001b[0m\u001b[0;34m)\u001b[0m\u001b[0;34m(\u001b[0m\u001b[0;34m)\u001b[0m\u001b[0;34m)\u001b[0m\u001b[0;34m\u001b[0m\u001b[0m\n\u001b[0m\u001b[1;32m   1392\u001b[0m \u001b[0;34m\u001b[0m\u001b[0m\n\u001b[1;32m   1393\u001b[0m         \u001b[0;32mwhile\u001b[0m \u001b[0mlen\u001b[0m\u001b[0;34m(\u001b[0m\u001b[0mself\u001b[0m\u001b[0;34m.\u001b[0m\u001b[0mmajorTicks\u001b[0m\u001b[0;34m)\u001b[0m \u001b[0;34m<\u001b[0m \u001b[0mnumticks\u001b[0m\u001b[0;34m:\u001b[0m\u001b[0;34m\u001b[0m\u001b[0m\n",
      "\u001b[0;32m/usr/lib/python3.5/site-packages/matplotlib/dates.py\u001b[0m in \u001b[0;36m__call__\u001b[0;34m(self)\u001b[0m\n\u001b[1;32m   1229\u001b[0m         \u001b[0;34m'Return the locations of the ticks'\u001b[0m\u001b[0;34m\u001b[0m\u001b[0m\n\u001b[1;32m   1230\u001b[0m         \u001b[0mself\u001b[0m\u001b[0;34m.\u001b[0m\u001b[0mrefresh\u001b[0m\u001b[0;34m(\u001b[0m\u001b[0;34m)\u001b[0m\u001b[0;34m\u001b[0m\u001b[0m\n\u001b[0;32m-> 1231\u001b[0;31m         \u001b[0;32mreturn\u001b[0m \u001b[0mself\u001b[0m\u001b[0;34m.\u001b[0m\u001b[0m_locator\u001b[0m\u001b[0;34m(\u001b[0m\u001b[0;34m)\u001b[0m\u001b[0;34m\u001b[0m\u001b[0m\n\u001b[0m\u001b[1;32m   1232\u001b[0m \u001b[0;34m\u001b[0m\u001b[0m\n\u001b[1;32m   1233\u001b[0m     \u001b[0;32mdef\u001b[0m \u001b[0mtick_values\u001b[0m\u001b[0;34m(\u001b[0m\u001b[0mself\u001b[0m\u001b[0;34m,\u001b[0m \u001b[0mvmin\u001b[0m\u001b[0;34m,\u001b[0m \u001b[0mvmax\u001b[0m\u001b[0;34m)\u001b[0m\u001b[0;34m:\u001b[0m\u001b[0;34m\u001b[0m\u001b[0m\n",
      "\u001b[0;32m/usr/lib/python3.5/site-packages/pandas/plotting/_converter.py\u001b[0m in \u001b[0;36m__call__\u001b[0;34m(self)\u001b[0m\n\u001b[1;32m    471\u001b[0m         \u001b[0med\u001b[0m \u001b[0;34m=\u001b[0m \u001b[0m_from_ordinal\u001b[0m\u001b[0;34m(\u001b[0m\u001b[0mdates\u001b[0m\u001b[0;34m.\u001b[0m\u001b[0mdate2num\u001b[0m\u001b[0;34m(\u001b[0m\u001b[0mdmax\u001b[0m\u001b[0;34m)\u001b[0m\u001b[0;34m)\u001b[0m\u001b[0;34m\u001b[0m\u001b[0m\n\u001b[1;32m    472\u001b[0m         all_dates = date_range(start=st, end=ed,\n\u001b[0;32m--> 473\u001b[0;31m                                freq=freq, tz=tz).astype(object)\n\u001b[0m\u001b[1;32m    474\u001b[0m \u001b[0;34m\u001b[0m\u001b[0m\n\u001b[1;32m    475\u001b[0m         \u001b[0;32mtry\u001b[0m\u001b[0;34m:\u001b[0m\u001b[0;34m\u001b[0m\u001b[0m\n",
      "\u001b[0;32m/usr/lib/python3.5/site-packages/pandas/core/indexes/datetimes.py\u001b[0m in \u001b[0;36mdate_range\u001b[0;34m(start, end, periods, freq, tz, normalize, name, closed, **kwargs)\u001b[0m\n\u001b[1;32m   2747\u001b[0m     return DatetimeIndex(start=start, end=end, periods=periods,\n\u001b[1;32m   2748\u001b[0m                          \u001b[0mfreq\u001b[0m\u001b[0;34m=\u001b[0m\u001b[0mfreq\u001b[0m\u001b[0;34m,\u001b[0m \u001b[0mtz\u001b[0m\u001b[0;34m=\u001b[0m\u001b[0mtz\u001b[0m\u001b[0;34m,\u001b[0m \u001b[0mnormalize\u001b[0m\u001b[0;34m=\u001b[0m\u001b[0mnormalize\u001b[0m\u001b[0;34m,\u001b[0m \u001b[0mname\u001b[0m\u001b[0;34m=\u001b[0m\u001b[0mname\u001b[0m\u001b[0;34m,\u001b[0m\u001b[0;34m\u001b[0m\u001b[0m\n\u001b[0;32m-> 2749\u001b[0;31m                          closed=closed, **kwargs)\n\u001b[0m\u001b[1;32m   2750\u001b[0m \u001b[0;34m\u001b[0m\u001b[0m\n\u001b[1;32m   2751\u001b[0m \u001b[0;34m\u001b[0m\u001b[0m\n",
      "\u001b[0;32m/usr/lib/python3.5/site-packages/pandas/core/indexes/datetimes.py\u001b[0m in \u001b[0;36m__new__\u001b[0;34m(cls, data, freq, start, end, periods, tz, normalize, closed, ambiguous, dayfirst, yearfirst, dtype, copy, name, verify_integrity)\u001b[0m\n\u001b[1;32m    379\u001b[0m                 return cls._generate(start, end, periods, name, freq, tz=tz,\n\u001b[1;32m    380\u001b[0m                                      \u001b[0mnormalize\u001b[0m\u001b[0;34m=\u001b[0m\u001b[0mnormalize\u001b[0m\u001b[0;34m,\u001b[0m \u001b[0mclosed\u001b[0m\u001b[0;34m=\u001b[0m\u001b[0mclosed\u001b[0m\u001b[0;34m,\u001b[0m\u001b[0;34m\u001b[0m\u001b[0m\n\u001b[0;32m--> 381\u001b[0;31m                                      ambiguous=ambiguous)\n\u001b[0m\u001b[1;32m    382\u001b[0m \u001b[0;34m\u001b[0m\u001b[0m\n\u001b[1;32m    383\u001b[0m         \u001b[0;32mif\u001b[0m \u001b[0;32mnot\u001b[0m \u001b[0misinstance\u001b[0m\u001b[0;34m(\u001b[0m\u001b[0mdata\u001b[0m\u001b[0;34m,\u001b[0m \u001b[0;34m(\u001b[0m\u001b[0mnp\u001b[0m\u001b[0;34m.\u001b[0m\u001b[0mndarray\u001b[0m\u001b[0;34m,\u001b[0m \u001b[0mIndex\u001b[0m\u001b[0;34m,\u001b[0m \u001b[0mABCSeries\u001b[0m\u001b[0;34m)\u001b[0m\u001b[0;34m)\u001b[0m\u001b[0;34m:\u001b[0m\u001b[0;34m\u001b[0m\u001b[0m\n",
      "\u001b[0;32m/usr/lib/python3.5/site-packages/pandas/core/indexes/datetimes.py\u001b[0m in \u001b[0;36m_generate\u001b[0;34m(cls, start, end, periods, name, freq, tz, normalize, ambiguous, closed)\u001b[0m\n\u001b[1;32m    504\u001b[0m \u001b[0;34m\u001b[0m\u001b[0m\n\u001b[1;32m    505\u001b[0m         \u001b[0minferred_tz\u001b[0m \u001b[0;34m=\u001b[0m \u001b[0mtimezones\u001b[0m\u001b[0;34m.\u001b[0m\u001b[0mmaybe_get_tz\u001b[0m\u001b[0;34m(\u001b[0m\u001b[0minferred_tz\u001b[0m\u001b[0;34m)\u001b[0m\u001b[0;34m\u001b[0m\u001b[0m\n\u001b[0;32m--> 506\u001b[0;31m         \u001b[0mtz\u001b[0m \u001b[0;34m=\u001b[0m \u001b[0mtimezones\u001b[0m\u001b[0;34m.\u001b[0m\u001b[0mmaybe_get_tz\u001b[0m\u001b[0;34m(\u001b[0m\u001b[0mtz\u001b[0m\u001b[0;34m)\u001b[0m\u001b[0;34m\u001b[0m\u001b[0m\n\u001b[0m\u001b[1;32m    507\u001b[0m \u001b[0;34m\u001b[0m\u001b[0m\n\u001b[1;32m    508\u001b[0m         \u001b[0;32mif\u001b[0m \u001b[0mtz\u001b[0m \u001b[0;32mis\u001b[0m \u001b[0;32mnot\u001b[0m \u001b[0;32mNone\u001b[0m \u001b[0;32mand\u001b[0m \u001b[0minferred_tz\u001b[0m \u001b[0;32mis\u001b[0m \u001b[0;32mnot\u001b[0m \u001b[0;32mNone\u001b[0m\u001b[0;34m:\u001b[0m\u001b[0;34m\u001b[0m\u001b[0m\n",
      "\u001b[0;32mpandas/_libs/tslibs/timezones.pyx\u001b[0m in \u001b[0;36mpandas._libs.tslibs.timezones.maybe_get_tz\u001b[0;34m()\u001b[0m\n",
      "\u001b[0;32mpandas/_libs/tslibs/timezones.pyx\u001b[0m in \u001b[0;36mpandas._libs.tslibs.timezones.maybe_get_tz\u001b[0;34m()\u001b[0m\n",
      "\u001b[0;32m/usr/lib/python3.5/site-packages/pytz/__init__.py\u001b[0m in \u001b[0;36mtimezone\u001b[0;34m(zone)\u001b[0m\n\u001b[1;32m    175\u001b[0m                 \u001b[0mfp\u001b[0m\u001b[0;34m.\u001b[0m\u001b[0mclose\u001b[0m\u001b[0;34m(\u001b[0m\u001b[0;34m)\u001b[0m\u001b[0;34m\u001b[0m\u001b[0m\n\u001b[1;32m    176\u001b[0m         \u001b[0;32melse\u001b[0m\u001b[0;34m:\u001b[0m\u001b[0;34m\u001b[0m\u001b[0m\n\u001b[0;32m--> 177\u001b[0;31m             \u001b[0;32mraise\u001b[0m \u001b[0mUnknownTimeZoneError\u001b[0m\u001b[0;34m(\u001b[0m\u001b[0mzone\u001b[0m\u001b[0;34m)\u001b[0m\u001b[0;34m\u001b[0m\u001b[0m\n\u001b[0m\u001b[1;32m    178\u001b[0m \u001b[0;34m\u001b[0m\u001b[0m\n\u001b[1;32m    179\u001b[0m     \u001b[0;32mreturn\u001b[0m \u001b[0m_tzinfo_cache\u001b[0m\u001b[0;34m[\u001b[0m\u001b[0mzone\u001b[0m\u001b[0;34m]\u001b[0m\u001b[0;34m\u001b[0m\u001b[0m\n",
      "\u001b[0;31mUnknownTimeZoneError\u001b[0m: 'UTC+00:00'"
     ]
    }
   ],
   "source": [
    "from poweradvantage import poweradvantage\n",
    "import time\n",
    "from IPython import display\n",
    "from datetime import datetime\n",
    "import pandas as pd\n",
    "%matplotlib inline\n",
    "import matplotlib.pyplot as plt\n",
    "pa = poweradvantage(\"VCK190\", \"SC\")\n",
    "df = pd.DataFrame()\n",
    "name = pa.getname()\n",
    "\n",
    "while 1:\n",
    " dt_object = datetime.fromtimestamp(datetime.timestamp(datetime.now()))\n",
    " power = pa.getpower()\n",
    " df0 = pd.DataFrame.from_records(zip(*power), columns=name, index=[0,0,dt_object])\n",
    " df = df.append(df0.iloc[[2]].copy())\n",
    " plt.plot(df.tail(10))\n",
    " display.clear_output(wait=True)\n",
    " plt.show()\n",
    " time.sleep(0.5)"
   ]
  },
  {
   "cell_type": "markdown",
   "metadata": {},
   "source": [
    "This cell prints out the legend. This is a good starting project if you want to try doing it yourself from Python."
   ]
  },
  {
   "cell_type": "code",
   "execution_count": 3,
   "metadata": {},
   "outputs": [
    {
     "name": "stdout",
     "output_type": "stream",
     "text": [
      "          VADJ_FMC          FMC Domain  FMC primary power supply\n",
      "          MGTYAVCC  Transceiver Domain  GTY transceiver primary analog power supply\n",
      "          MGTYAVTT  Transceiver Domain  GTY transceiver termination power supply\n",
      "        MGTYVCCAUX  Transceiver Domain  GTY transceiver auxiliary analog Quad PLL (QPLL) power supply\n",
      "            VCCINT           PL Domain  PL and AIE primary power supply\n",
      "            VCC1V8           PL Domain  1.8V GPIO, UART, Sysctlr power supply\n",
      "            VCC3V3           PL Domain  3.3V PCIE, HDMI, HDIO power supply\n",
      "            VCC1V2           PL Domain  1.2V DDR4 termination supply\n",
      "            VCC1V1           PL Domain  1.1V LPDDR4 termination supply\n",
      "           VCC_SOC       System Domain  NOC and DDR controller primary power supply\n",
      "           VCC_RAM       System Domain  RAM and clocking network power supply\n",
      "            VCCAUX       System Domain  Auxiliary power supply\n",
      "          VCC_PSFP                 FPD  PS Full-power domain power supply\n",
      "          VCC_PSLP                 LPD  PS Low-power domain power supply\n",
      "           VCC_PMC          PMC Domain  PMC primary power supply\n",
      "          VCCO_MIO          PMC Domain  PMC and Low-power domain IO power supply\n",
      "        VCCAUX_PMC          PMC Domain  PMC auxiliary power supply\n"
     ]
    }
   ],
   "source": [
    "from poweradvantage import poweradvantage\n",
    "pa = poweradvantage(\"VCK190\", \"SC\")\n",
    "for (n, do, d) in zip(pa.getname(), pa.getdomain(), pa.getdescription()):\n",
    "    print(\"%18s  %18s  %s\" % (n, do, d))"
   ]
  },
  {
   "cell_type": "markdown",
   "metadata": {},
   "source": [
    "In this concept of a developer's \"experimentation environment\" there are many things you can do: \n",
    "\n",
    "Easy:  <img style=\"float: right;\" src=\"img/xilinx-bulb.png\">  \n",
    "(1) You can change the time.sleep(n) to sample faster or slower.  \n",
    "(2) You can expand the plt.plot to display more than 10 values.  \n",
    "(3) Try writing some Python code from the cells.\n",
    "(4) Print out the descriptions of the rails.  \n",
    "(5) Print out a legend of the rails containing the names and descriptions.  \n",
    "(6) Run the Power Advantage Tool from System Controller with your design running on the main device.  \n",
    "(7) Run the jupyter notebook on the main device (e.g. Targeted Reference Design) as well as the Power Advantage Tool.  \n",
    "\n",
    "Moderate:  \n",
    "(8) You can winscp into /usr/local/lib/python3.6/dist-packages/poweradvantage/poweradvantage.py to see how printpower is done. Then paste the code into your own program (changing self.getpower() to pa.getpower()).  \n",
    "(9) Try only outputting the Domain Totals and net Total.  \n",
    "(10) Try only outputting the Rails and total for a single Domain.\n",
    "(11) Try turning the output into .csv format, and open as an Excel file.\n",
    "(12) Automation is easy in Python. Try scripting a series of tasks.\n",
    "\n",
    "Advanced:  <img style=\"float: right;\" src=\"img/xilinx-bricks.png\">  \n",
    "(13) Try saving a .csv of your data in your jupyter folder.  \n",
    "(14) Try saving a .csv of your data on your host machine.  \n",
    "(15) Try varying the PL voltage and see what the power change is.  \n",
    "(16) Try sending a GPIO to your design that spawns a task and see the power change.  \n",
    "(17) Try sending a GPIO to your design that switches off a power domain and see the power change.  \n",
    "(18) Try sending a JTAG EEMI command to the PMC that switches off a power domain and see the power change.  \n",
    "(19) Run a cycle test on an operation and view or log the power.  \n",
    "(20) Cycle through combinations of states to exhaustively power test every combination.  \n",
    "(21) Prototype one function or state of your application, and measure its performance/power."
   ]
  },
  {
   "cell_type": "markdown",
   "metadata": {},
   "source": [
    "This cell is a one-time initialization. You must be connected to the internet (estimated run time 30 minutes)."
   ]
  },
  {
   "cell_type": "code",
   "execution_count": 5,
   "metadata": {},
   "outputs": [
    {
     "name": "stdout",
     "output_type": "stream",
     "text": [
      "Looking in indexes: https://pypi.org/simple, https://pypi.xilinx.com\n",
      "Requirement already satisfied: pytest-xdist in /usr/local/lib/python3.6/dist-packages (1.28.0)\n",
      "Requirement already satisfied: pytest-forked in /usr/local/lib/python3.6/dist-packages (from pytest-xdist) (1.0.2)\n",
      "Requirement already satisfied: six in /usr/lib/python3/dist-packages (from pytest-xdist) (1.11.0)\n",
      "Requirement already satisfied: execnet>=1.1 in /usr/local/lib/python3.6/dist-packages (from pytest-xdist) (1.6.0)\n",
      "Requirement already satisfied: pytest>=4.4.0 in /usr/local/lib/python3.6/dist-packages (from pytest-xdist) (4.6.3)\n",
      "Requirement already satisfied: apipkg>=1.4 in /usr/local/lib/python3.6/dist-packages (from execnet>=1.1->pytest-xdist) (1.5)\n",
      "Requirement already satisfied: packaging in /usr/local/lib/python3.6/dist-packages (from pytest>=4.4.0->pytest-xdist) (19.0)\n",
      "Requirement already satisfied: wcwidth in /usr/local/lib/python3.6/dist-packages (from pytest>=4.4.0->pytest-xdist) (0.1.7)\n",
      "Requirement already satisfied: more-itertools>=4.0.0; python_version > \"2.7\" in /usr/local/lib/python3.6/dist-packages (from pytest>=4.4.0->pytest-xdist) (7.0.0)\n",
      "Requirement already satisfied: importlib-metadata>=0.12 in /usr/local/lib/python3.6/dist-packages (from pytest>=4.4.0->pytest-xdist) (0.18)\n",
      "Requirement already satisfied: attrs>=17.4.0 in /usr/local/lib/python3.6/dist-packages (from pytest>=4.4.0->pytest-xdist) (19.1.0)\n",
      "Requirement already satisfied: atomicwrites>=1.0 in /usr/local/lib/python3.6/dist-packages (from pytest>=4.4.0->pytest-xdist) (1.3.0)\n",
      "Requirement already satisfied: py>=1.5.0 in /usr/local/lib/python3.6/dist-packages (from pytest>=4.4.0->pytest-xdist) (1.8.0)\n",
      "Requirement already satisfied: pluggy<1.0,>=0.12 in /usr/local/lib/python3.6/dist-packages (from pytest>=4.4.0->pytest-xdist) (0.12.0)\n",
      "Requirement already satisfied: pyparsing>=2.0.2 in /usr/local/lib/python3.6/dist-packages (from packaging->pytest>=4.4.0->pytest-xdist) (2.4.0)\n",
      "Requirement already satisfied: zipp>=0.5 in /usr/local/lib/python3.6/dist-packages (from importlib-metadata>=0.12->pytest>=4.4.0->pytest-xdist) (0.5.1)\n",
      "Looking in indexes: https://pypi.org/simple, https://pypi.xilinx.com\n",
      "Requirement already up-to-date: pip in /usr/local/lib/python3.6/dist-packages (19.1.1)\n",
      "Looking in indexes: https://pypi.org/simple, https://pypi.xilinx.com\n",
      "Requirement already satisfied: python-periphery in /usr/local/lib/python3.6/dist-packages (1.1.1)\n",
      "Looking in indexes: https://pypi.org/simple, https://pypi.xilinx.com\n",
      "Requirement already satisfied: numpy in /usr/local/lib/python3.6/dist-packages (1.16.4)\n",
      "Looking in indexes: https://pypi.org/simple, https://pypi.xilinx.com\n",
      "Requirement already satisfied: pandas in /usr/local/lib/python3.6/dist-packages (0.24.2)\n",
      "Requirement already satisfied: python-dateutil>=2.5.0 in /usr/local/lib/python3.6/dist-packages (from pandas) (2.8.0)\n",
      "Requirement already satisfied: pytz>=2011k in /usr/local/lib/python3.6/dist-packages (from pandas) (2019.1)\n",
      "Requirement already satisfied: numpy>=1.12.0 in /usr/local/lib/python3.6/dist-packages (from pandas) (1.16.4)\n",
      "Requirement already satisfied: six>=1.5 in /usr/lib/python3/dist-packages (from python-dateutil>=2.5.0->pandas) (1.11.0)\n",
      "Looking in indexes: https://pypi.org/simple, https://pypi.xilinx.com\n",
      "Requirement already satisfied: matplotlib in /usr/local/lib/python3.6/dist-packages (3.1.0)\n",
      "Requirement already satisfied: pyparsing!=2.0.4,!=2.1.2,!=2.1.6,>=2.0.1 in /usr/local/lib/python3.6/dist-packages (from matplotlib) (2.4.0)\n",
      "Requirement already satisfied: kiwisolver>=1.0.1 in /usr/local/lib/python3.6/dist-packages (from matplotlib) (1.1.0)\n",
      "Requirement already satisfied: python-dateutil>=2.1 in /usr/local/lib/python3.6/dist-packages (from matplotlib) (2.8.0)\n",
      "Requirement already satisfied: cycler>=0.10 in /usr/local/lib/python3.6/dist-packages (from matplotlib) (0.10.0)\n",
      "Requirement already satisfied: numpy>=1.11 in /usr/local/lib/python3.6/dist-packages (from matplotlib) (1.16.4)\n",
      "Requirement already satisfied: setuptools in /usr/lib/python3/dist-packages (from kiwisolver>=1.0.1->matplotlib) (39.0.1)\n",
      "Requirement already satisfied: six>=1.5 in /usr/lib/python3/dist-packages (from python-dateutil>=2.1->matplotlib) (1.11.0)\n"
     ]
    }
   ],
   "source": [
    "import sys\n",
    "!{sys.executable} -m pip install --trusted-host pypi.xilinx.com --trusted-host pypi.python.org --trusted-host pypi.org --trusted-host files.pythonhosted.org pytest-xdist\n",
    "!{sys.executable} -m pip install --trusted-host pypi.xilinx.com --trusted-host pypi.python.org --trusted-host pypi.org --trusted-host files.pythonhosted.org --upgrade pip\n",
    "!{sys.executable} -m pip install --trusted-host pypi.xilinx.com --trusted-host pypi.python.org --trusted-host pypi.org --trusted-host files.pythonhosted.org python-periphery\n",
    "!{sys.executable} -m pip install --trusted-host pypi.xilinx.com --trusted-host pypi.python.org --trusted-host pypi.org --trusted-host files.pythonhosted.org numpy\n",
    "!{sys.executable} -m pip install --trusted-host pypi.xilinx.com --trusted-host pypi.python.org --trusted-host pypi.org --trusted-host files.pythonhosted.org pandas\n",
    "!{sys.executable} -m pip install --trusted-host pypi.xilinx.com --trusted-host pypi.python.org --trusted-host pypi.org --trusted-host files.pythonhosted.org matplotlib"
   ]
  },
  {
   "cell_type": "code",
   "execution_count": null,
   "metadata": {},
   "outputs": [],
   "source": []
  }
 ],
 "metadata": {
  "kernelspec": {
   "display_name": "Python 3",
   "language": "python",
   "name": "python3"
  },
  "language_info": {
   "codemirror_mode": {
    "name": "ipython",
    "version": 3
   },
   "file_extension": ".py",
   "mimetype": "text/x-python",
   "name": "python",
   "nbconvert_exporter": "python",
   "pygments_lexer": "ipython3",
   "version": "3.5.6"
  }
 },
 "nbformat": 4,
 "nbformat_minor": 2
}

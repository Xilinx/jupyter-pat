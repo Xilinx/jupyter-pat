{
 "cells": [
  {
   "cell_type": "markdown",
   "metadata": {},
   "source": [
    "<img src=\"img/xilinx-jupyter.png\"/>\n",
    "\n",
    "Jupyter Notebook provides us a flexible experimentation environment.\n",
    "Select any cell and click \"Run\". Click the square to stop if needed.\n",
    "\n",
    "## Power Advantage Tool notebook "
   ]
  },
  {
   "cell_type": "markdown",
   "metadata": {},
   "source": [
    "This cell is a demo of the poweradvantage library.  \n",
    "\n",
    "This generation of Power Advantage Tool has a few improvements over previous generations:  \n",
    "(1) It is available as a library so it can be easily embedded into all demos and applications.  \n",
    "(2) It can be run alongside your code, without you requiring to modify your project.  \n",
    "(3) The Jupyter Notebook experimentation environment encourages customization and extension.  \n",
    "  - Note it is only four lines of code.  <img style=\"float: right;\" src=\"img/xilinx-kid.png\">  \n",
    "  - The same APIs support various kits, so your code can be portable.  \n",
    "  - It is supported on the System Controller or the Main Device (with jupyter notebook).  \n",
    "  - APIs give access to the data, so it can be presented as you like.  \n",
    "  - Additional Python libraries can be installed!  \n",
    "  - See below for more that you can do!  \n",
    "\n",
    "Note: Domains/Totals only show Watts since they are composed of rails of different Voltages (invalid columns are dashed out).  "
   ]
  },
  {
   "cell_type": "code",
   "execution_count": 1,
   "metadata": {
    "scrolled": true
   },
   "outputs": [
    {
     "name": "stdout",
     "output_type": "stream",
     "text": [
      "\n",
      "poweradvantage rev 0.02\n",
      "-------------- --- ----\n",
      "pa          = poweradvantage(<name>, <module>) # Initialization\n",
      "                                               # Board Names: VCK190, VMK180\n",
      "                                               # Modules: \"\" Main Module, SC System Controller\n",
      "pa          = poweradvantage(\"VCK190\", \"\")     # Configure to be run on VCK190 Versal\n",
      "pa          = poweradvantage(\"VCK190\", \"SC\")   # Configure to be run on VCK190 System Controller\n",
      "name        = pa.getname()                     # Get power rail names\n",
      "description = pa.getdescription()              # Get power rail descriptions\n",
      "domain      = pa.getdomain()                   # Get power rail domains\n",
      "power       = pa.getpower()                    # Get power rail Volts, Amps, Watts\n",
      "              pa.printpower()                  # Print the power\n",
      "power       = pa.printpower()                  # Print the power and get the power\n",
      "              pa.help()                        # Print these instructions\n",
      "\n",
      "                   Volts   Amps   Watts\n",
      "          VADJ_FMC 0.004  0.0000  0.0000\n",
      "        FMC Domain ----- -------  0.0000\n",
      "          MGTYAVCC 0.876  0.6713  0.5882\n",
      "          MGTYAVTT 1.204  0.0125  0.0150\n",
      "        MGTYVCCAUX 1.495  0.0005  0.0007\n",
      "Transceiver Domain ----- -------  0.6040\n",
      "            VCCINT 0.784  3.2100  2.5158\n",
      "            VCC1V8 1.804  0.0020  0.0036\n",
      "            VCC3V3 3.325  0.0085  0.0283\n",
      "            VCC1V2 1.199  0.0235  0.0282\n",
      "            VCC1V1 1.099  0.0620  0.0681\n",
      "           VCC_RAM 0.000  0.0000  0.0000\n",
      "            VCCAUX 1.502  0.0065  0.0098\n",
      "         PL Domain ----- -------  2.6538\n",
      "           VCC_SOC 0.785  0.4100  0.3218\n",
      "     System Domain ----- -------  0.3218\n",
      "          VCC_PSFP 0.777  0.0275  0.0214\n",
      "               FPD ----- -------  0.0214\n",
      "          VCC_PSLP 0.780  0.0150  0.0117\n",
      "               LPD ----- -------  0.0117\n",
      "           VCC_PMC 0.776  0.0995  0.0772\n",
      "          VCCO_MIO 1.800  0.1045  0.1881\n",
      "        VCCAUX_PMC 1.501  0.0285  0.0428\n",
      "        PMC Domain ----- -------  0.3081\n",
      "             Total ----- -------  3.9208\n"
     ]
    }
   ],
   "source": [
    "from poweradvantage import poweradvantage\n",
    "pa = poweradvantage(\"VCK190\", \"SC\")\n",
    "pa.help()\n",
    "p = pa.printpower()"
   ]
  },
  {
   "cell_type": "markdown",
   "metadata": {},
   "source": [
    "This cell is the Power Advantage Tool.  \n",
    "Select the cell below and click \"Run\". Click the square to stop.\n",
    "\n",
    "The Power Advantage Tool can run along with your application by launching its separate Jupyter Notebook on the main device.  \n",
    "Or the Power Advantage Tool can run along with any application by launching it from the System Controller.  \n",
    "This flexibility allows an unprescedented level of tools support with your design. <img style=\"float: right;\" src=\"img/xilinx-bulb.png\">\n",
    "\n",
    "Please see below for more things you can do."
   ]
  },
  {
   "cell_type": "code",
   "execution_count": 2,
   "metadata": {
    "scrolled": true
   },
   "outputs": [
    {
     "name": "stdout",
     "output_type": "stream",
     "text": [
      "                   Volts   Amps   Watts\n",
      "          VADJ_FMC 0.004  0.0000  0.0000\n",
      "        FMC Domain ----- -------  0.0000\n",
      "          MGTYAVCC 0.877  0.6763  0.5934\n",
      "          MGTYAVTT 1.204  0.0125  0.0150\n",
      "        MGTYVCCAUX 1.495  0.0005  0.0007\n",
      "Transceiver Domain ----- -------  0.6092\n",
      "            VCCINT 0.784  2.7900  2.1867\n",
      "            VCC1V8 1.802  0.0015  0.0027\n",
      "            VCC3V3 3.325  0.0090  0.0299\n",
      "            VCC1V2 1.199  0.0240  0.0288\n",
      "            VCC1V1 1.099  0.0620  0.0681\n",
      "           VCC_RAM 0.000  0.0000  0.0000\n",
      "            VCCAUX 1.502  0.0065  0.0098\n",
      "         PL Domain ----- -------  2.3260\n",
      "           VCC_SOC 0.785  0.4100  0.3218\n",
      "     System Domain ----- -------  0.3218\n",
      "          VCC_PSFP 0.776  0.0280  0.0217\n",
      "               FPD ----- -------  0.0217\n",
      "          VCC_PSLP 0.780  0.0155  0.0121\n",
      "               LPD ----- -------  0.0121\n",
      "           VCC_PMC 0.776  0.1010  0.0784\n",
      "          VCCO_MIO 1.800  0.1045  0.1881\n",
      "        VCCAUX_PMC 1.501  0.0285  0.0428\n",
      "        PMC Domain ----- -------  0.3093\n",
      "             Total ----- -------  3.6001\n"
     ]
    },
    {
     "ename": "KeyboardInterrupt",
     "evalue": "",
     "output_type": "error",
     "traceback": [
      "\u001b[0;31m---------------------------------------------------------------------------\u001b[0m",
      "\u001b[0;31mKeyboardInterrupt\u001b[0m                         Traceback (most recent call last)",
      "\u001b[0;32m<ipython-input-2-a945d622b904>\u001b[0m in \u001b[0;36m<module>\u001b[0;34m\u001b[0m\n\u001b[1;32m      7\u001b[0m  \u001b[0mdisplay\u001b[0m\u001b[0;34m.\u001b[0m\u001b[0mclear_output\u001b[0m\u001b[0;34m(\u001b[0m\u001b[0mwait\u001b[0m\u001b[0;34m=\u001b[0m\u001b[0;32mTrue\u001b[0m\u001b[0;34m)\u001b[0m\u001b[0;34m\u001b[0m\u001b[0;34m\u001b[0m\u001b[0m\n\u001b[1;32m      8\u001b[0m  \u001b[0mpa\u001b[0m\u001b[0;34m.\u001b[0m\u001b[0mprintpower\u001b[0m\u001b[0;34m(\u001b[0m\u001b[0;34m)\u001b[0m\u001b[0;34m\u001b[0m\u001b[0;34m\u001b[0m\u001b[0m\n\u001b[0;32m----> 9\u001b[0;31m  \u001b[0mtime\u001b[0m\u001b[0;34m.\u001b[0m\u001b[0msleep\u001b[0m\u001b[0;34m(\u001b[0m\u001b[0;36m3\u001b[0m\u001b[0;34m)\u001b[0m\u001b[0;34m\u001b[0m\u001b[0;34m\u001b[0m\u001b[0m\n\u001b[0m",
      "\u001b[0;31mKeyboardInterrupt\u001b[0m: "
     ]
    }
   ],
   "source": [
    "from poweradvantage import poweradvantage\n",
    "import time\n",
    "from IPython import display\n",
    "pa = poweradvantage(\"VCK190\", \"SC\")\n",
    "\n",
    "while 1:\n",
    " display.clear_output(wait=True)\n",
    " pa.printpower()\n",
    " time.sleep(3)"
   ]
  },
  {
   "cell_type": "markdown",
   "metadata": {},
   "source": [
    "This cell shows how to make a custom presentation of the data.  \n",
    "It does not use printpower, but uses getpower to get the data and plots it.  \n",
    "\n",
    "With the flexibility of pandas dataframes, this code can be extended in many ways.  "
   ]
  },
  {
   "cell_type": "code",
   "execution_count": 3,
   "metadata": {},
   "outputs": [
    {
     "data": {
      "image/png": "[encoded data removed]",
      "text/plain": [
       "<Figure size 432x288 with 1 Axes>"
      ]
     },
     "metadata": {
      "needs_background": "light"
     },
     "output_type": "display_data"
    },
    {
     "ename": "KeyboardInterrupt",
     "evalue": "",
     "output_type": "error",
     "traceback": [
      "\u001b[0;31m---------------------------------------------------------------------------\u001b[0m",
      "\u001b[0;31mKeyboardInterrupt\u001b[0m                         Traceback (most recent call last)",
      "\u001b[0;32m<ipython-input-3-7a49264cc66f>\u001b[0m in \u001b[0;36m<module>\u001b[0;34m\u001b[0m\n\u001b[1;32m     18\u001b[0m  \u001b[0mdisplay\u001b[0m\u001b[0;34m.\u001b[0m\u001b[0mclear_output\u001b[0m\u001b[0;34m(\u001b[0m\u001b[0mwait\u001b[0m\u001b[0;34m=\u001b[0m\u001b[0;32mTrue\u001b[0m\u001b[0;34m)\u001b[0m\u001b[0;34m\u001b[0m\u001b[0;34m\u001b[0m\u001b[0m\n\u001b[1;32m     19\u001b[0m  \u001b[0mplt\u001b[0m\u001b[0;34m.\u001b[0m\u001b[0mshow\u001b[0m\u001b[0;34m(\u001b[0m\u001b[0;34m)\u001b[0m\u001b[0;34m\u001b[0m\u001b[0;34m\u001b[0m\u001b[0m\n\u001b[0;32m---> 20\u001b[0;31m  \u001b[0mtime\u001b[0m\u001b[0;34m.\u001b[0m\u001b[0msleep\u001b[0m\u001b[0;34m(\u001b[0m\u001b[0;36m0.5\u001b[0m\u001b[0;34m)\u001b[0m\u001b[0;34m\u001b[0m\u001b[0;34m\u001b[0m\u001b[0m\n\u001b[0m",
      "\u001b[0;31mKeyboardInterrupt\u001b[0m: "
     ]
    }
   ],
   "source": [
    "from poweradvantage import poweradvantage\n",
    "import time\n",
    "from IPython import display\n",
    "from datetime import datetime\n",
    "import pandas as pd\n",
    "%matplotlib inline\n",
    "import matplotlib.pyplot as plt\n",
    "pa = poweradvantage(\"VCK190\", \"SC\")\n",
    "df = pd.DataFrame()\n",
    "name = pa.getname()\n",
    "\n",
    "while 1:\n",
    " dt_object = datetime.fromtimestamp(datetime.timestamp(datetime.now()))\n",
    " power = pa.getpower()\n",
    " df0 = pd.DataFrame.from_records(zip(*power), columns=name, index=[0,0,dt_object])\n",
    " df = df.append(df0.iloc[[2]].copy())\n",
    " plt.plot(df.tail(10))\n",
    " display.clear_output(wait=True)\n",
    " plt.show()\n",
    " time.sleep(0.5)"
   ]
  },
  {
   "cell_type": "markdown",
   "metadata": {},
   "source": [
    "This cell prints out the legend. This is a good starting project if you want to try doing it yourself from Python."
   ]
  },
  {
   "cell_type": "code",
   "execution_count": 4,
   "metadata": {},
   "outputs": [
    {
     "name": "stdout",
     "output_type": "stream",
     "text": [
      "          VADJ_FMC          FMC Domain  FMC primary power supply\n",
      "          MGTYAVCC  Transceiver Domain  GTY transceiver primary analog power supply\n",
      "          MGTYAVTT  Transceiver Domain  GTY transceiver termination power supply\n",
      "        MGTYVCCAUX  Transceiver Domain  GTY transceiver auxiliary analog Quad PLL (QPLL) power supply\n",
      "            VCCINT           PL Domain  PL and AIE primary power supply\n",
      "            VCC1V8           PL Domain  1.8V GPIO, UART, Sysctlr power supply\n",
      "            VCC3V3           PL Domain  3.3V PCIE, HDMI, HDIO power supply\n",
      "            VCC1V2           PL Domain  1.2V DDR4 termination supply\n",
      "            VCC1V1           PL Domain  1.1V LPDDR4 termination supply\n",
      "           VCC_RAM           PL Domain  RAM and clocking network power supply\n",
      "            VCCAUX           PL Domain  Auxiliary power supply\n",
      "           VCC_SOC       System Domain  NOC and DDR controller primary power supply\n",
      "          VCC_PSFP                 FPD  PS Full-power domain power supply\n",
      "          VCC_PSLP                 LPD  PS Low-power domain power supply\n",
      "           VCC_PMC          PMC Domain  PMC primary power supply\n",
      "          VCCO_MIO          PMC Domain  PMC and Low-power domain IO power supply\n",
      "        VCCAUX_PMC          PMC Domain  PMC auxiliary power supply\n"
     ]
    }
   ],
   "source": [
    "from poweradvantage import poweradvantage\n",
    "pa = poweradvantage(\"VCK190\", \"SC\")\n",
    "for (n, do, d) in zip(pa.getname(), pa.getdomain(), pa.getdescription()):\n",
    "    print(\"%18s  %18s  %s\" % (n, do, d))"
   ]
  },
  {
   "cell_type": "markdown",
   "metadata": {},
   "source": [
    "In this concept of a developer's \"experimentation environment\" there are many things you can do: \n",
    "\n",
    "Easy:  <img style=\"float: right;\" src=\"img/xilinx-bulb.png\">  \n",
    "(1) You can change the time.sleep(n) to sample faster or slower.  \n",
    "(2) You can expand the plt.plot to display more than 10 values.  \n",
    "(3) Try writing some Python code from the cells.\n",
    "(4) Print out the descriptions of the rails.  \n",
    "(5) Print out a legend of the rails containing the names and descriptions.  \n",
    "(6) Run the Power Advantage Tool from System Controller with your design running on the main device.  \n",
    "(7) Run the jupyter notebook on the main device (e.g. Targeted Reference Design) as well as the Power Advantage Tool.  \n",
    "\n",
    "Moderate:  \n",
    "(8) You can winscp into /usr/local/lib/python3.6/dist-packages/poweradvantage/poweradvantage.py to see how printpower is done. Then paste the code into your own program (changing self.getpower() to pa.getpower()).  \n",
    "(9) Try only outputting the Domain Totals and net Total.  \n",
    "(10) Try only outputting the Rails and total for a single Domain.\n",
    "(11) Try turning the output into .csv format, and open as an Excel file.\n",
    "(12) Automation is easy in Python. Try scripting a series of tasks.\n",
    "\n",
    "Advanced:  <img style=\"float: right;\" src=\"img/xilinx-bricks.png\">  \n",
    "(13) Try saving a .csv of your data in your jupyter folder.  \n",
    "(14) Try saving a .csv of your data on your host machine.  \n",
    "(15) Try varying the PL voltage and see what the power change is.  \n",
    "(16) Try sending a GPIO to your design that spawns a task and see the power change.  \n",
    "(17) Try sending a GPIO to your design that switches off a power domain and see the power change.  \n",
    "(18) Try sending a JTAG EEMI command to the PMC that switches off a power domain and see the power change.  \n",
    "(19) Run a cycle test on an operation and view or log the power.  \n",
    "(20) Cycle through combinations of states to exhaustively power test every combination.  \n",
    "(21) Prototype one function or state of your application, and measure its performance/power."
   ]
  },
  {
   "cell_type": "markdown",
   "metadata": {},
   "source": [
    "This cell is a one-time initialization. You must be connected to the internet (estimated run time 30 minutes)."
   ]
  },
  {
   "cell_type": "code",
   "execution_count": 5,
   "metadata": {},
   "outputs": [
    {
     "name": "stdout",
     "output_type": "stream",
     "text": [
      "Collecting pytest-xdist\n",
      "\u001b[33m  WARNING: Retrying (Retry(total=4, connect=None, read=None, redirect=None, status=None)) after connection broken by 'NewConnectionError('<pip._vendor.urllib3.connection.VerifiedHTTPSConnection object at 0x7f981f4650>: Failed to establish a new connection: [Errno -3] Temporary failure in name resolution')': /simple/pytest-xdist/\u001b[0m\n",
      "\u001b[33m  WARNING: Retrying (Retry(total=3, connect=None, read=None, redirect=None, status=None)) after connection broken by 'NewConnectionError('<pip._vendor.urllib3.connection.VerifiedHTTPSConnection object at 0x7f981f6b90>: Failed to establish a new connection: [Errno -3] Temporary failure in name resolution')': /simple/pytest-xdist/\u001b[0m\n",
      "\u001b[33m  WARNING: Retrying (Retry(total=2, connect=None, read=None, redirect=None, status=None)) after connection broken by 'NewConnectionError('<pip._vendor.urllib3.connection.VerifiedHTTPSConnection object at 0x7f981f6d90>: Failed to establish a new connection: [Errno -3] Temporary failure in name resolution')': /simple/pytest-xdist/\u001b[0m\n",
      "\u001b[33m  WARNING: Retrying (Retry(total=1, connect=None, read=None, redirect=None, status=None)) after connection broken by 'NewConnectionError('<pip._vendor.urllib3.connection.VerifiedHTTPSConnection object at 0x7f981f6f50>: Failed to establish a new connection: [Errno -3] Temporary failure in name resolution')': /simple/pytest-xdist/\u001b[0m\n",
      "\u001b[33m  WARNING: Retrying (Retry(total=0, connect=None, read=None, redirect=None, status=None)) after connection broken by 'NewConnectionError('<pip._vendor.urllib3.connection.VerifiedHTTPSConnection object at 0x7f981acd90>: Failed to establish a new connection: [Errno -3] Temporary failure in name resolution')': /simple/pytest-xdist/\u001b[0m\n",
      "\u001b[31m  ERROR: Could not find a version that satisfies the requirement pytest-xdist (from versions: none)\u001b[0m\n",
      "\u001b[31mERROR: No matching distribution found for pytest-xdist\u001b[0m\n",
      "\u001b[33mWARNING: Retrying (Retry(total=4, connect=None, read=None, redirect=None, status=None)) after connection broken by 'NewConnectionError('<pip._vendor.urllib3.connection.VerifiedHTTPSConnection object at 0x7fb1e76c50>: Failed to establish a new connection: [Errno -3] Temporary failure in name resolution')': /simple/pip/\u001b[0m\n",
      "\u001b[33mWARNING: Retrying (Retry(total=3, connect=None, read=None, redirect=None, status=None)) after connection broken by 'NewConnectionError('<pip._vendor.urllib3.connection.VerifiedHTTPSConnection object at 0x7fb1e82950>: Failed to establish a new connection: [Errno -3] Temporary failure in name resolution')': /simple/pip/\u001b[0m\n",
      "\u001b[33mWARNING: Retrying (Retry(total=2, connect=None, read=None, redirect=None, status=None)) after connection broken by 'NewConnectionError('<pip._vendor.urllib3.connection.VerifiedHTTPSConnection object at 0x7fb1e82a10>: Failed to establish a new connection: [Errno -3] Temporary failure in name resolution')': /simple/pip/\u001b[0m\n",
      "\u001b[33mWARNING: Retrying (Retry(total=1, connect=None, read=None, redirect=None, status=None)) after connection broken by 'NewConnectionError('<pip._vendor.urllib3.connection.VerifiedHTTPSConnection object at 0x7fb1e82d50>: Failed to establish a new connection: [Errno -3] Temporary failure in name resolution')': /simple/pip/\u001b[0m\n",
      "\u001b[33mWARNING: Retrying (Retry(total=0, connect=None, read=None, redirect=None, status=None)) after connection broken by 'NewConnectionError('<pip._vendor.urllib3.connection.VerifiedHTTPSConnection object at 0x7fb1e82f10>: Failed to establish a new connection: [Errno -3] Temporary failure in name resolution')': /simple/pip/\u001b[0m\n",
      "Requirement already up-to-date: pip in /usr/lib/python3.7/site-packages (19.2.3)\n",
      "Requirement already satisfied: python-periphery in /usr/lib/python3.7/site-packages (1.1.1)\n",
      "Requirement already satisfied: numpy in /usr/lib/python3.7/site-packages (1.17.0)\n",
      "Requirement already satisfied: pandas in /usr/lib/python3.7/site-packages (0.23.4)\n",
      "Requirement already satisfied: python-dateutil>=2.5.0 in /usr/lib/python3.7/site-packages (from pandas) (2.8.1)\n",
      "Requirement already satisfied: pytz>=2011k in /usr/lib/python3.7/site-packages (from pandas) (2019.2)\n",
      "Requirement already satisfied: numpy>=1.9.0 in /usr/lib/python3.7/site-packages (from pandas) (1.17.0)\n",
      "Requirement already satisfied: six>=1.5 in /usr/lib/python3.7/site-packages (from python-dateutil>=2.5.0->pandas) (1.12.0)\n",
      "Requirement already satisfied: matplotlib in /usr/lib/python3.7/site-packages (3.1.1)\n",
      "Requirement already satisfied: cycler>=0.10 in /usr/lib/python3.7/site-packages (from matplotlib) (0.10.0)\n",
      "Requirement already satisfied: kiwisolver>=1.0.1 in /usr/lib/python3.7/site-packages (from matplotlib) (1.0.1)\n",
      "Requirement already satisfied: pyparsing!=2.0.4,!=2.1.2,!=2.1.6,>=2.0.1 in /usr/lib/python3.7/site-packages (from matplotlib) (2.4.2)\n",
      "Requirement already satisfied: python-dateutil>=2.1 in /usr/lib/python3.7/site-packages (from matplotlib) (2.8.1)\n",
      "Requirement already satisfied: numpy>=1.11 in /usr/lib/python3.7/site-packages (from matplotlib) (1.17.0)\n",
      "Requirement already satisfied: six in /usr/lib/python3.7/site-packages (from cycler>=0.10->matplotlib) (1.12.0)\n",
      "Requirement already satisfied: setuptools in /usr/lib/python3.7/site-packages (from kiwisolver>=1.0.1->matplotlib) (41.2.0)\n"
     ]
    }
   ],
   "source": [
    "import sys\n",
    "!{sys.executable} -m pip install --trusted-host pypi.xilinx.com --trusted-host pypi.python.org --trusted-host pypi.org --trusted-host files.pythonhosted.org pytest-xdist\n",
    "!{sys.executable} -m pip install --trusted-host pypi.xilinx.com --trusted-host pypi.python.org --trusted-host pypi.org --trusted-host files.pythonhosted.org --upgrade pip\n",
    "!{sys.executable} -m pip install --trusted-host pypi.xilinx.com --trusted-host pypi.python.org --trusted-host pypi.org --trusted-host files.pythonhosted.org python-periphery\n",
    "!{sys.executable} -m pip install --trusted-host pypi.xilinx.com --trusted-host pypi.python.org --trusted-host pypi.org --trusted-host files.pythonhosted.org numpy\n",
    "!{sys.executable} -m pip install --trusted-host pypi.xilinx.com --trusted-host pypi.python.org --trusted-host pypi.org --trusted-host files.pythonhosted.org pandas\n",
    "!{sys.executable} -m pip install --trusted-host pypi.xilinx.com --trusted-host pypi.python.org --trusted-host pypi.org --trusted-host files.pythonhosted.org matplotlib"
   ]
  },
  {
   "cell_type": "code",
   "execution_count": null,
   "metadata": {},
   "outputs": [],
   "source": []
  }
 ],
 "metadata": {
  "kernelspec": {
   "display_name": "Python 3",
   "language": "python",
   "name": "python3"
  },
  "language_info": {
   "codemirror_mode": {
    "name": "ipython",
    "version": 3
   },
   "file_extension": ".py",
   "mimetype": "text/x-python",
   "name": "python",
   "nbconvert_exporter": "python",
   "pygments_lexer": "ipython3",
   "version": "3.7.6"
  }
 },
 "nbformat": 4,
 "nbformat_minor": 2
}
